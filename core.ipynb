{
 "cells": [
  {
   "cell_type": "code",
   "execution_count": 2,
   "id": "c1b58e71",
   "metadata": {},
   "outputs": [],
   "source": [
    "import numpy as np\n",
    "import pandas as pd\n",
    "import matplotlib.pyplot as plt\n"
   ]
  },
  {
   "cell_type": "code",
   "execution_count": null,
   "id": "aec3c709",
   "metadata": {},
   "outputs": [],
   "source": [
    "data = pd.read_csv('numbers.csv')"
   ]
  },
  {
   "cell_type": "code",
   "execution_count": 18,
   "id": "ad573edf",
   "metadata": {},
   "outputs": [],
   "source": [
    "data = np.array(data)\n",
    "m, n = data.shape\n",
    "np.random.shuffle(data) \n",
    "\n",
    "data_dev = data[0:1000].T\n",
    "Y_dev = data_dev[0]\n",
    "X_dev = data_dev[1:n]\n",
    "X_dev = X_dev / 255.\n",
    "\n",
    "data_train = data[1000:m].T\n",
    "Y_train = data_train[0]\n",
    "X_train = data_train[1:n]\n",
    "X_train = X_train / 255.\n",
    "_,m_train = X_train.shape"
   ]
  },
  {
   "cell_type": "code",
   "execution_count": null,
   "id": "07a411c8",
   "metadata": {},
   "outputs": [],
   "source": [
    "def init_params():\n",
    "    W1 = np.random.rand(10, 784) - 0.5\n",
    "    b1 = np.random.rand(10, 1) - 0.5\n",
    "    W2 = np.random.rand(10, 10) - 0.5\n",
    "    b2 = np.random.rand(10, 1) - 0.5\n",
    "    return W1, b1, W2, b2\n",
    "\n",
    "def ReLU(Z):\n",
    "    return np.maximum(Z, 0)\n",
    "\n",
    "def softmax(Z):\n",
    "    A = np.exp(Z) / sum(np.exp(Z))\n",
    "    return A\n",
    "    \n",
    "def forward_prop(W1, b1, W2, b2, X):\n",
    "    Z1 = W1.dot(X) + b1\n",
    "    A1 = ReLU(Z1)\n",
    "    Z2 = W2.dot(A1) + b2\n",
    "    A2 = softmax(Z2)\n",
    "    return Z1, A1, Z2, A2\n",
    "\n",
    "def ReLU_deriv(Z):\n",
    "    return Z > 0\n",
    "\n",
    "def one_hot(Y):\n",
    "    one_hot_Y = np.zeros((Y.size, Y.max() + 1))\n",
    "    one_hot_Y[np.arange(Y.size), Y] = 1\n",
    "    one_hot_Y = one_hot_Y.T\n",
    "    return one_hot_Y\n",
    "\n",
    "def backward_prop(Z1, A1, Z2, A2, W1, W2, X, Y):\n",
    "    one_hot_Y = one_hot(Y)\n",
    "    dZ2 = A2 - one_hot_Y\n",
    "    dW2 = 1 / m * dZ2.dot(A1.T)\n",
    "    db2 = 1 / m * np.sum(dZ2)\n",
    "    dZ1 = W2.T.dot(dZ2) * ReLU_deriv(Z1)\n",
    "    dW1 = 1 / m * dZ1.dot(X.T)\n",
    "    db1 = 1 / m * np.sum(dZ1)\n",
    "    return dW1, db1, dW2, db2\n",
    "\n",
    "def update_params(W1, b1, W2, b2, dW1, db1, dW2, db2, alpha):\n",
    "    W1 = W1 - alpha * dW1\n",
    "    b1 = b1 - alpha * db1    \n",
    "    W2 = W2 - alpha * dW2  \n",
    "    b2 = b2 - alpha * db2    \n",
    "    return W1, b1, W2, b2"
   ]
  },
  {
   "cell_type": "code",
   "execution_count": 29,
   "id": "1e685939",
   "metadata": {},
   "outputs": [],
   "source": [
    "def get_predictions(A2):\n",
    "    return np.argmax(A2, 0)\n",
    "\n",
    "def get_accuracy(predictions, Y):\n",
    "    print(predictions, Y)\n",
    "    return np.sum(predictions == Y) / Y.size\n",
    "\n",
    "def gradient_descent(X, Y, alpha, iterations):\n",
    "    W1, b1, W2, b2 = init_params()\n",
    "    for i in range(iterations):\n",
    "        Z1, A1, Z2, A2 = forward_prop(W1, b1, W2, b2, X)\n",
    "        dW1, db1, dW2, db2 = backward_prop(Z1, A1, Z2, A2, W1, W2, X, Y)\n",
    "        W1, b1, W2, b2 = update_params(W1, b1, W2, b2, dW1, db1, dW2, db2, alpha)\n",
    "        if i % 50 == 0:\n",
    "            print(\"Iteration: \", i)\n",
    "            predictions = get_predictions(A2)\n",
    "            print(get_accuracy(predictions, Y))\n",
    "    return W1, b1, W2, b2"
   ]
  },
  {
   "cell_type": "code",
   "execution_count": 30,
   "id": "a83794d0",
   "metadata": {},
   "outputs": [
    {
     "name": "stdout",
     "output_type": "stream",
     "text": [
      "[[-0.3151409  -0.23052458 -0.09662425 ...  0.28613085  0.18479606\n",
      "  -0.30996052]\n",
      " [ 0.29014236  0.00284046  0.08403813 ...  0.43987809 -0.05038861\n",
      "   0.24056823]\n",
      " [-0.38693161  0.47960074  0.15186121 ... -0.41607648  0.16227157\n",
      "   0.26844837]\n",
      " ...\n",
      " [ 0.27704813  0.29577528 -0.45764857 ...  0.32949124  0.35557053\n",
      "  -0.32775401]\n",
      " [ 0.39871236 -0.19745788 -0.02380996 ...  0.094483   -0.38808365\n",
      "   0.42051263]\n",
      " [-0.30565463  0.39719959 -0.0963183  ... -0.19630869  0.15668412\n",
      "  -0.45145955]] [[ 0.36986597]\n",
      " [-0.16913619]\n",
      " [-0.24104876]\n",
      " [-0.35780458]\n",
      " [ 0.44962709]\n",
      " [-0.14299176]\n",
      " [ 0.44273191]\n",
      " [ 0.15760646]\n",
      " [ 0.0066175 ]\n",
      " [-0.18696867]] [[-0.26137892  0.04545629 -0.16272343 -0.05511926 -0.15621907 -0.4715871\n",
      "  -0.3810372  -0.22106429  0.08065553  0.19475161]\n",
      " [ 0.0791561  -0.39472255 -0.23434687  0.09175893 -0.44146289 -0.45213015\n",
      "   0.24405993  0.03802747  0.10186556  0.11103745]\n",
      " [ 0.32154343  0.10929577  0.22890996 -0.485892   -0.4535991  -0.13508093\n",
      "  -0.00282823  0.46086594  0.34421388 -0.33426601]\n",
      " [ 0.1582919   0.18740488 -0.07166308 -0.48082937 -0.26386549 -0.11160392\n",
      "   0.43578573 -0.37034111  0.03361476  0.37064983]\n",
      " [-0.15289956 -0.11839336 -0.37633228  0.2168495   0.36059138  0.23066396\n",
      "   0.03153321 -0.12039032 -0.33399286 -0.46964532]\n",
      " [-0.31303546  0.27932862 -0.18210025 -0.32633827 -0.31000753 -0.02630049\n",
      "  -0.13397746  0.05625476 -0.31279124  0.37793471]\n",
      " [ 0.2397407  -0.15209674 -0.2069545   0.36041447  0.01667252  0.42341062\n",
      "   0.14868498  0.07527774 -0.03929083 -0.14519296]\n",
      " [-0.1837379   0.03536414 -0.49441761 -0.42449397  0.05796593  0.21675561\n",
      "  -0.24220007 -0.49610364 -0.17158947  0.36731476]\n",
      " [-0.41309482  0.31121447  0.37051062  0.47122876  0.49364055 -0.00726748\n",
      "   0.16329492  0.2598382   0.27088752  0.22749634]\n",
      " [ 0.47609462  0.08213335  0.12861256  0.27837958 -0.31812662 -0.18854318\n",
      "   0.30474294  0.47534618  0.30055451 -0.4709013 ]] [[-0.22761361]\n",
      " [-0.32568224]\n",
      " [-0.3591843 ]\n",
      " [ 0.37156573]\n",
      " [ 0.29202004]\n",
      " [-0.38301062]\n",
      " [ 0.28974154]\n",
      " [ 0.27322583]\n",
      " [ 0.09239096]\n",
      " [ 0.43209351]]\n",
      "Iteration:  0\n",
      "[8 8 8 ... 8 8 8] [2 6 8 ... 0 7 7]\n",
      "0.09209756097560975\n",
      "Iteration:  50\n",
      "[6 6 1 ... 6 7 7] [2 6 8 ... 0 7 7]\n",
      "0.3416829268292683\n",
      "Iteration:  100\n",
      "[6 6 1 ... 0 7 7] [2 6 8 ... 0 7 7]\n",
      "0.628219512195122\n",
      "Iteration:  150\n",
      "[0 0 1 ... 0 7 7] [2 6 8 ... 0 7 7]\n",
      "0.48109756097560974\n",
      "Iteration:  200\n",
      "[6 6 1 ... 0 7 7] [2 6 8 ... 0 7 7]\n",
      "0.8115609756097562\n",
      "Iteration:  250\n",
      "[0 6 1 ... 0 7 7] [2 6 8 ... 0 7 7]\n",
      "0.8346341463414634\n",
      "Iteration:  300\n",
      "[6 6 1 ... 0 7 7] [2 6 8 ... 0 7 7]\n",
      "0.8682926829268293\n",
      "Iteration:  350\n",
      "[6 6 1 ... 0 7 7] [2 6 8 ... 0 7 7]\n",
      "0.8509512195121951\n",
      "Iteration:  400\n",
      "[6 0 1 ... 0 7 7] [2 6 8 ... 0 7 7]\n",
      "0.8639512195121951\n",
      "Iteration:  450\n",
      "[6 6 1 ... 0 7 7] [2 6 8 ... 0 7 7]\n",
      "0.8948780487804878\n",
      "Iteration:  500\n",
      "[6 6 8 ... 0 7 7] [2 6 8 ... 0 7 7]\n",
      "0.8312926829268292\n",
      "Iteration:  550\n",
      "[6 6 1 ... 0 7 7] [2 6 8 ... 0 7 7]\n",
      "0.8998536585365854\n",
      "Iteration:  600\n",
      "[6 6 1 ... 0 7 7] [2 6 8 ... 0 7 7]\n",
      "0.910219512195122\n",
      "Iteration:  650\n",
      "[6 6 1 ... 0 7 7] [2 6 8 ... 0 7 7]\n",
      "0.9112439024390244\n"
     ]
    },
    {
     "ename": "KeyboardInterrupt",
     "evalue": "",
     "output_type": "error",
     "traceback": [
      "\u001b[31m---------------------------------------------------------------------------\u001b[39m",
      "\u001b[31mKeyboardInterrupt\u001b[39m                         Traceback (most recent call last)",
      "\u001b[36mCell\u001b[39m\u001b[36m \u001b[39m\u001b[32mIn[30]\u001b[39m\u001b[32m, line 1\u001b[39m\n\u001b[32m----> \u001b[39m\u001b[32m1\u001b[39m W1, b1, W2, b2 = \u001b[43mgradient_descent\u001b[49m\u001b[43m(\u001b[49m\u001b[43mX_train\u001b[49m\u001b[43m,\u001b[49m\u001b[43m \u001b[49m\u001b[43mY_train\u001b[49m\u001b[43m,\u001b[49m\u001b[43m \u001b[49m\u001b[32;43m0.9\u001b[39;49m\u001b[43m,\u001b[49m\u001b[43m \u001b[49m\u001b[32;43m1000\u001b[39;49m\u001b[43m)\u001b[49m\n",
      "\u001b[36mCell\u001b[39m\u001b[36m \u001b[39m\u001b[32mIn[29]\u001b[39m\u001b[32m, line 12\u001b[39m, in \u001b[36mgradient_descent\u001b[39m\u001b[34m(X, Y, alpha, iterations)\u001b[39m\n\u001b[32m     10\u001b[39m \u001b[38;5;28;01mfor\u001b[39;00m i \u001b[38;5;129;01min\u001b[39;00m \u001b[38;5;28mrange\u001b[39m(iterations):\n\u001b[32m     11\u001b[39m     Z1, A1, Z2, A2 = forward_prop(W1, b1, W2, b2, X)\n\u001b[32m---> \u001b[39m\u001b[32m12\u001b[39m     dW1, db1, dW2, db2 = \u001b[43mbackward_prop\u001b[49m\u001b[43m(\u001b[49m\u001b[43mZ1\u001b[49m\u001b[43m,\u001b[49m\u001b[43m \u001b[49m\u001b[43mA1\u001b[49m\u001b[43m,\u001b[49m\u001b[43m \u001b[49m\u001b[43mZ2\u001b[49m\u001b[43m,\u001b[49m\u001b[43m \u001b[49m\u001b[43mA2\u001b[49m\u001b[43m,\u001b[49m\u001b[43m \u001b[49m\u001b[43mW1\u001b[49m\u001b[43m,\u001b[49m\u001b[43m \u001b[49m\u001b[43mW2\u001b[49m\u001b[43m,\u001b[49m\u001b[43m \u001b[49m\u001b[43mX\u001b[49m\u001b[43m,\u001b[49m\u001b[43m \u001b[49m\u001b[43mY\u001b[49m\u001b[43m)\u001b[49m\n\u001b[32m     13\u001b[39m     W1, b1, W2, b2 = update_params(W1, b1, W2, b2, dW1, db1, dW2, db2, alpha)\n\u001b[32m     14\u001b[39m     \u001b[38;5;28;01mif\u001b[39;00m i % \u001b[32m50\u001b[39m == \u001b[32m0\u001b[39m:\n",
      "\u001b[36mCell\u001b[39m\u001b[36m \u001b[39m\u001b[32mIn[28]\u001b[39m\u001b[32m, line 38\u001b[39m, in \u001b[36mbackward_prop\u001b[39m\u001b[34m(Z1, A1, Z2, A2, W1, W2, X, Y)\u001b[39m\n\u001b[32m     36\u001b[39m db2 = \u001b[32m1\u001b[39m / m * np.sum(dZ2)\n\u001b[32m     37\u001b[39m dZ1 = W2.T.dot(dZ2) * ReLU_deriv(Z1)\n\u001b[32m---> \u001b[39m\u001b[32m38\u001b[39m dW1 = \u001b[32m1\u001b[39m / m * \u001b[43mdZ1\u001b[49m\u001b[43m.\u001b[49m\u001b[43mdot\u001b[49m\u001b[43m(\u001b[49m\u001b[43mX\u001b[49m\u001b[43m.\u001b[49m\u001b[43mT\u001b[49m\u001b[43m)\u001b[49m\n\u001b[32m     39\u001b[39m db1 = \u001b[32m1\u001b[39m / m * np.sum(dZ1)\n\u001b[32m     40\u001b[39m \u001b[38;5;28;01mreturn\u001b[39;00m dW1, db1, dW2, db2\n",
      "\u001b[31mKeyboardInterrupt\u001b[39m: "
     ]
    }
   ],
   "source": [
    "W1, b1, W2, b2 = gradient_descent(X_train, Y_train, 0.9, 1000)"
   ]
  },
  {
   "cell_type": "code",
   "execution_count": null,
   "id": "1db3af63",
   "metadata": {},
   "outputs": [],
   "source": [
    "\n",
    "def make_predictions(X, W1, b1, W2, b2):\n",
    "    _, _, _, A2 = forward_prop(W1, b1, W2, b2, X)\n",
    "    predictions = get_predictions(A2)\n",
    "    return predictions\n",
    "\n",
    "def test_prediction(index, W1, b1, W2, b2):\n",
    "    current_image = X_train[:, index, None]\n",
    "    prediction = make_predictions(X_train[:, index, None], W1, b1, W2, b2)\n",
    "    label = Y_train[index]\n",
    "    print(\"Prediction: \", prediction)\n",
    "    print(\"Label: \", label)\n",
    "    \n",
    "    current_image = current_image.reshape((28, 28)) * 255\n",
    "    plt.gray()\n",
    "    plt.imshow(current_image, interpolation='nearest')\n",
    "    plt.show()"
   ]
  },
  {
   "cell_type": "code",
   "execution_count": 33,
   "id": "dbe3d940",
   "metadata": {},
   "outputs": [
    {
     "name": "stdout",
     "output_type": "stream",
     "text": [
      "Prediction:  [5]\n",
      "Label:  5\n"
     ]
    },
    {
     "data": {
      "image/png": "[encoded data removed]",
      "text/plain": [
       "<Figure size 640x480 with 1 Axes>"
      ]
     },
     "metadata": {},
     "output_type": "display_data"
    },
    {
     "name": "stdout",
     "output_type": "stream",
     "text": [
      "Prediction:  [7]\n",
      "Label:  7\n"
     ]
    },
    {
     "data": {
      "image/png": "[encoded data removed]",
      "text/plain": [
       "<Figure size 640x480 with 1 Axes>"
      ]
     },
     "metadata": {},
     "output_type": "display_data"
    },
    {
     "name": "stdout",
     "output_type": "stream",
     "text": [
      "Prediction:  [9]\n",
      "Label:  9\n"
     ]
    },
    {
     "data": {
      "image/png": "[encoded data removed]",
      "text/plain": [
       "<Figure size 640x480 with 1 Axes>"
      ]
     },
     "metadata": {},
     "output_type": "display_data"
    },
    {
     "name": "stdout",
     "output_type": "stream",
     "text": [
      "Prediction:  [9]\n",
      "Label:  9\n"
     ]
    },
    {
     "data": {
      "image/png": "[encoded data removed]",
      "text/plain": [
       "<Figure size 640x480 with 1 Axes>"
      ]
     },
     "metadata": {},
     "output_type": "display_data"
    }
   ],
   "source": [
    "np.random.shuffle(data)\n",
    "\n",
    "data_train = data[1000:m].T\n",
    "Y_train = data_train[0]\n",
    "X_train = data_train[1:n]\n",
    "X_train = X_train / 255.\n",
    "_,m_train = X_train.shape\n",
    "\n",
    "test_prediction(0, W1, b1, W2, b2)\n",
    "test_prediction(1, W1, b1, W2, b2)\n",
    "test_prediction(2, W1, b1, W2, b2)\n",
    "test_prediction(3, W1, b1, W2, b2)"
   ]
  }
 ],
 "metadata": {
  "kernelspec": {
   "display_name": "Python 3",
   "language": "python",
   "name": "python3"
  },
  "language_info": {
   "codemirror_mode": {
    "name": "ipython",
    "version": 3
   },
   "file_extension": ".py",
   "mimetype": "text/x-python",
   "name": "python",
   "nbconvert_exporter": "python",
   "pygments_lexer": "ipython3",
   "version": "3.12.6"
  }
 },
 "nbformat": 4,
 "nbformat_minor": 5
}
